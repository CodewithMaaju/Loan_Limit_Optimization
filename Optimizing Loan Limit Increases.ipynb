{
 "cells": [
  {
   "cell_type": "markdown",
   "id": "a77fc1db-1a71-432b-b862-1007f7779182",
   "metadata": {},
   "source": [
    "# Optimizing Loan Limit Increases: A Data-Driven Approach"
   ]
  },
  {
   "cell_type": "markdown",
   "id": "112a67c7-c284-46a5-8420-dfbc4b4cba21",
   "metadata": {},
   "source": [
    "## Notebook Summary (Introduction Section):"
   ]
  },
  {
   "cell_type": "markdown",
   "id": "6518e209-beb9-4687-ab5a-021272b70ea3",
   "metadata": {},
   "source": [
    "This notebook explores an optimal strategy for loan limit increases using machine learning, operations research, and stochastic modeling. The dataset consists of 30,000 customer loan records, including repayment history, eligibility criteria, and default risk."
   ]
  },
  {
   "cell_type": "markdown",
   "id": "2420c827-0f84-4a58-b62a-efef8cb25db0",
   "metadata": {},
   "source": [
    "## Objectives:\n",
    "1. Perform Exploratory Data Analysis (EDA) to understand borrower behavior.\n",
    "2.  Develop a forecasting model for customer uptake of loan increases.\n",
    "3.  Implement an optimization model to maximize profitability while controlling risk.\n",
    "4.  Use probabilistic techniques (Markov chains, Monte Carlo simulations) to model borrower transitions\n",
    "5.  Simulate loan lifecycle scenarios and evaluate strategies under different economic conditions.\n",
    "6.  Provide recommendations for real-world implementation."
   ]
  },
  {
   "cell_type": "markdown",
   "id": "346d75f2-05c8-4e66-9137-2a29875cd8b7",
   "metadata": {},
   "source": [
    "## Step 1: Understanding the Dataset\n",
    "Before we jump into modeling, we need to understand the structure of your dataset. Upload the dataset, and we'll start with Exploratory Data Analysis (EDA) to examine the following:\n",
    "1. Column names and data types\n",
    "2. Missing values and outliers\n",
    "3. Summary statistics\n",
    "4. Key trends in loan amounts, repayment behavior, and risk categories"
   ]
  },
  {
   "cell_type": "markdown",
   "id": "ab1a78a2-cb54-4683-9cfc-483a40a6aaca",
   "metadata": {},
   "source": [
    "###  Read the Xl "
   ]
  },
  {
   "cell_type": "code",
   "execution_count": 110,
   "id": "9d737b1d-55f1-4a9b-a79a-f38b2e47b8ed",
   "metadata": {},
   "outputs": [
    {
     "name": "stdout",
     "output_type": "stream",
     "text": [
      "Requirement already satisfied: pandas in c:\\users\\admin\\anaconda3\\lib\\site-packages (2.2.2)\n",
      "Requirement already satisfied: openpyxl in c:\\users\\admin\\anaconda3\\lib\\site-packages (3.1.5)\n",
      "Requirement already satisfied: numpy>=1.26.0 in c:\\users\\admin\\anaconda3\\lib\\site-packages (from pandas) (1.26.4)\n",
      "Requirement already satisfied: python-dateutil>=2.8.2 in c:\\users\\admin\\anaconda3\\lib\\site-packages (from pandas) (2.9.0.post0)\n",
      "Requirement already satisfied: pytz>=2020.1 in c:\\users\\admin\\anaconda3\\lib\\site-packages (from pandas) (2024.1)\n",
      "Requirement already satisfied: tzdata>=2022.7 in c:\\users\\admin\\anaconda3\\lib\\site-packages (from pandas) (2023.3)\n",
      "Requirement already satisfied: et-xmlfile in c:\\users\\admin\\anaconda3\\lib\\site-packages (from openpyxl) (1.1.0)\n",
      "Requirement already satisfied: six>=1.5 in c:\\users\\admin\\anaconda3\\lib\\site-packages (from python-dateutil>=2.8.2->pandas) (1.16.0)\n"
     ]
    }
   ],
   "source": [
    "!pip install pandas openpyxl"
   ]
  },
  {
   "cell_type": "markdown",
   "id": "2eb39621-afe4-43e0-a782-5ba77d36c042",
   "metadata": {},
   "source": [
    "### Import main libraries: "
   ]
  },
  {
   "cell_type": "code",
   "execution_count": 111,
   "id": "85ac56e2-17f7-469e-b236-b5d876f2ac85",
   "metadata": {},
   "outputs": [
    {
     "data": {
      "text/html": [
       "<div>\n",
       "<style scoped>\n",
       "    .dataframe tbody tr th:only-of-type {\n",
       "        vertical-align: middle;\n",
       "    }\n",
       "\n",
       "    .dataframe tbody tr th {\n",
       "        vertical-align: top;\n",
       "    }\n",
       "\n",
       "    .dataframe thead th {\n",
       "        text-align: right;\n",
       "    }\n",
       "</style>\n",
       "<table border=\"1\" class=\"dataframe\">\n",
       "  <thead>\n",
       "    <tr style=\"text-align: right;\">\n",
       "      <th></th>\n",
       "      <th>Customer ID</th>\n",
       "      <th>Initial Loan ($)</th>\n",
       "      <th>Days Since Last Loan</th>\n",
       "      <th>On-time Payments (%)</th>\n",
       "      <th>No. of Increases in 2023</th>\n",
       "      <th>Total Profit Contribution ($)</th>\n",
       "    </tr>\n",
       "  </thead>\n",
       "  <tbody>\n",
       "    <tr>\n",
       "      <th>0</th>\n",
       "      <td>1001</td>\n",
       "      <td>1360</td>\n",
       "      <td>72</td>\n",
       "      <td>90.41</td>\n",
       "      <td>5</td>\n",
       "      <td>120</td>\n",
       "    </tr>\n",
       "    <tr>\n",
       "      <th>1</th>\n",
       "      <td>1002</td>\n",
       "      <td>4272</td>\n",
       "      <td>54</td>\n",
       "      <td>90.32</td>\n",
       "      <td>0</td>\n",
       "      <td>0</td>\n",
       "    </tr>\n",
       "    <tr>\n",
       "      <th>2</th>\n",
       "      <td>1003</td>\n",
       "      <td>3592</td>\n",
       "      <td>242</td>\n",
       "      <td>85.56</td>\n",
       "      <td>4</td>\n",
       "      <td>80</td>\n",
       "    </tr>\n",
       "    <tr>\n",
       "      <th>3</th>\n",
       "      <td>1004</td>\n",
       "      <td>966</td>\n",
       "      <td>301</td>\n",
       "      <td>95.86</td>\n",
       "      <td>0</td>\n",
       "      <td>0</td>\n",
       "    </tr>\n",
       "    <tr>\n",
       "      <th>4</th>\n",
       "      <td>1005</td>\n",
       "      <td>4926</td>\n",
       "      <td>352</td>\n",
       "      <td>94.80</td>\n",
       "      <td>0</td>\n",
       "      <td>0</td>\n",
       "    </tr>\n",
       "  </tbody>\n",
       "</table>\n",
       "</div>"
      ],
      "text/plain": [
       "   Customer ID  Initial Loan ($)  Days Since Last Loan  On-time Payments (%)  \\\n",
       "0         1001              1360                    72                 90.41   \n",
       "1         1002              4272                    54                 90.32   \n",
       "2         1003              3592                   242                 85.56   \n",
       "3         1004               966                   301                 95.86   \n",
       "4         1005              4926                   352                 94.80   \n",
       "\n",
       "   No. of Increases in 2023  Total Profit Contribution ($)  \n",
       "0                         5                            120  \n",
       "1                         0                              0  \n",
       "2                         4                             80  \n",
       "3                         0                              0  \n",
       "4                         0                              0  "
      ]
     },
     "execution_count": 111,
     "metadata": {},
     "output_type": "execute_result"
    }
   ],
   "source": [
    "import pandas as pd\n",
    "\n",
    "# Load the DataSet \n",
    "df = pd.read_excel('loan_limit_increases.xlsx', header=1)  # Set header to the second row (index 1)\n",
    "\n",
    "# Display the first few rows \n",
    "df.head()"
   ]
  },
  {
   "cell_type": "markdown",
   "id": "24d6d1e0-d71f-4a01-a4a3-8c46ecbed0ea",
   "metadata": {},
   "source": [
    "## Explore the dataset: \n",
    "1. Check for missing values, data types, and basic statistics.\n",
    "2. Identify key features (e.g., loan amount, repayment status, risk category).\n",
    "## Define problem scope:\n",
    "1. Understand how loan limits are currently assigned.\n",
    "2. Identify potential risk factors affecting limit increases."
   ]
  },
  {
   "cell_type": "code",
   "execution_count": 112,
   "id": "699a6912-2a2b-4b96-839d-aa4ec31f4f66",
   "metadata": {},
   "outputs": [
    {
     "name": "stdout",
     "output_type": "stream",
     "text": [
      "<class 'pandas.core.frame.DataFrame'>\n",
      "RangeIndex: 30000 entries, 0 to 29999\n",
      "Data columns (total 6 columns):\n",
      " #   Column                         Non-Null Count  Dtype  \n",
      "---  ------                         --------------  -----  \n",
      " 0   Customer ID                    30000 non-null  int64  \n",
      " 1   Initial Loan ($)               30000 non-null  int64  \n",
      " 2   Days Since Last Loan           30000 non-null  int64  \n",
      " 3   On-time Payments (%)           30000 non-null  float64\n",
      " 4   No. of Increases in 2023       30000 non-null  int64  \n",
      " 5   Total Profit Contribution ($)  30000 non-null  int64  \n",
      "dtypes: float64(1), int64(5)\n",
      "memory usage: 1.4 MB\n"
     ]
    },
    {
     "data": {
      "text/html": [
       "<div>\n",
       "<style scoped>\n",
       "    .dataframe tbody tr th:only-of-type {\n",
       "        vertical-align: middle;\n",
       "    }\n",
       "\n",
       "    .dataframe tbody tr th {\n",
       "        vertical-align: top;\n",
       "    }\n",
       "\n",
       "    .dataframe thead th {\n",
       "        text-align: right;\n",
       "    }\n",
       "</style>\n",
       "<table border=\"1\" class=\"dataframe\">\n",
       "  <thead>\n",
       "    <tr style=\"text-align: right;\">\n",
       "      <th></th>\n",
       "      <th>Customer ID</th>\n",
       "      <th>Initial Loan ($)</th>\n",
       "      <th>Days Since Last Loan</th>\n",
       "      <th>On-time Payments (%)</th>\n",
       "      <th>No. of Increases in 2023</th>\n",
       "      <th>Total Profit Contribution ($)</th>\n",
       "    </tr>\n",
       "  </thead>\n",
       "  <tbody>\n",
       "    <tr>\n",
       "      <th>count</th>\n",
       "      <td>30000.000000</td>\n",
       "      <td>30000.000000</td>\n",
       "      <td>30000.000000</td>\n",
       "      <td>30000.000000</td>\n",
       "      <td>30000.000000</td>\n",
       "      <td>30000.000000</td>\n",
       "    </tr>\n",
       "    <tr>\n",
       "      <th>mean</th>\n",
       "      <td>16000.500000</td>\n",
       "      <td>2752.532600</td>\n",
       "      <td>181.475900</td>\n",
       "      <td>90.024261</td>\n",
       "      <td>2.237500</td>\n",
       "      <td>44.718667</td>\n",
       "    </tr>\n",
       "    <tr>\n",
       "      <th>std</th>\n",
       "      <td>8660.398374</td>\n",
       "      <td>1293.027316</td>\n",
       "      <td>105.066112</td>\n",
       "      <td>5.745515</td>\n",
       "      <td>2.076914</td>\n",
       "      <td>46.632106</td>\n",
       "    </tr>\n",
       "    <tr>\n",
       "      <th>min</th>\n",
       "      <td>1001.000000</td>\n",
       "      <td>500.000000</td>\n",
       "      <td>0.000000</td>\n",
       "      <td>80.000000</td>\n",
       "      <td>0.000000</td>\n",
       "      <td>0.000000</td>\n",
       "    </tr>\n",
       "    <tr>\n",
       "      <th>25%</th>\n",
       "      <td>8500.750000</td>\n",
       "      <td>1630.000000</td>\n",
       "      <td>90.000000</td>\n",
       "      <td>85.080000</td>\n",
       "      <td>0.000000</td>\n",
       "      <td>0.000000</td>\n",
       "    </tr>\n",
       "    <tr>\n",
       "      <th>50%</th>\n",
       "      <td>16000.500000</td>\n",
       "      <td>2761.000000</td>\n",
       "      <td>182.000000</td>\n",
       "      <td>90.050000</td>\n",
       "      <td>3.000000</td>\n",
       "      <td>40.000000</td>\n",
       "    </tr>\n",
       "    <tr>\n",
       "      <th>75%</th>\n",
       "      <td>23500.250000</td>\n",
       "      <td>3866.000000</td>\n",
       "      <td>272.000000</td>\n",
       "      <td>95.010000</td>\n",
       "      <td>4.000000</td>\n",
       "      <td>80.000000</td>\n",
       "    </tr>\n",
       "    <tr>\n",
       "      <th>max</th>\n",
       "      <td>31000.000000</td>\n",
       "      <td>4999.000000</td>\n",
       "      <td>364.000000</td>\n",
       "      <td>100.000000</td>\n",
       "      <td>5.000000</td>\n",
       "      <td>120.000000</td>\n",
       "    </tr>\n",
       "  </tbody>\n",
       "</table>\n",
       "</div>"
      ],
      "text/plain": [
       "        Customer ID  Initial Loan ($)  Days Since Last Loan  \\\n",
       "count  30000.000000      30000.000000          30000.000000   \n",
       "mean   16000.500000       2752.532600            181.475900   \n",
       "std     8660.398374       1293.027316            105.066112   \n",
       "min     1001.000000        500.000000              0.000000   \n",
       "25%     8500.750000       1630.000000             90.000000   \n",
       "50%    16000.500000       2761.000000            182.000000   \n",
       "75%    23500.250000       3866.000000            272.000000   \n",
       "max    31000.000000       4999.000000            364.000000   \n",
       "\n",
       "       On-time Payments (%)  No. of Increases in 2023  \\\n",
       "count          30000.000000              30000.000000   \n",
       "mean              90.024261                  2.237500   \n",
       "std                5.745515                  2.076914   \n",
       "min               80.000000                  0.000000   \n",
       "25%               85.080000                  0.000000   \n",
       "50%               90.050000                  3.000000   \n",
       "75%               95.010000                  4.000000   \n",
       "max              100.000000                  5.000000   \n",
       "\n",
       "       Total Profit Contribution ($)  \n",
       "count                   30000.000000  \n",
       "mean                       44.718667  \n",
       "std                        46.632106  \n",
       "min                         0.000000  \n",
       "25%                         0.000000  \n",
       "50%                        40.000000  \n",
       "75%                        80.000000  \n",
       "max                       120.000000  "
      ]
     },
     "execution_count": 112,
     "metadata": {},
     "output_type": "execute_result"
    }
   ],
   "source": [
    "\n",
    "# Basic info\n",
    "df.info()\n",
    "\n",
    "# Check missing values\n",
    "df.isnull().sum()\n",
    "\n",
    "# Summary statistics\n",
    "df.describe()\n"
   ]
  },
  {
   "cell_type": "markdown",
   "id": "be61c1a8-f854-41cc-942f-8c55fb8c0f5c",
   "metadata": {},
   "source": [
    "#  Since there are no missing values, we can now:\n",
    "## 1️⃣ Understand Data Distribution:"
   ]
  },
  {
   "cell_type": "code",
   "execution_count": 113,
   "id": "e4860b1c-304d-4bed-8c11-4ff5bbe23fb9",
   "metadata": {},
   "outputs": [
    {
     "data": {
      "image/png": "[encoded data removed]",
      "text/plain": [
       "<Figure size 1200x800 with 6 Axes>"
      ]
     },
     "metadata": {},
     "output_type": "display_data"
    }
   ],
   "source": [
    "import matplotlib.pyplot as plt\n",
    "import seaborn as sns\n",
    "\n",
    "# Select numeric columns\n",
    "numeric_cols = df.select_dtypes(include=['number']).columns\n",
    "\n",
    "# Plot histograms\n",
    "df[numeric_cols].hist(figsize = (12,8) , bins = 30)\n",
    "plt.tight_layout()\n",
    "plt.show()"
   ]
  },
  {
   "cell_type": "markdown",
   "id": "21094e94-27bf-4cc2-a3a1-8bf072c9ef75",
   "metadata": {},
   "source": [
    "### The fact that we see six different patterns suggests distinct customer behaviors or loan characteristics."
   ]
  },
  {
   "cell_type": "markdown",
   "id": "bec9f210-ec6d-4b1e-b0c9-858e73d22b5c",
   "metadata": {},
   "source": [
    "## 2️⃣ Check for Customer Segments:"
   ]
  },
  {
   "cell_type": "code",
   "execution_count": 114,
   "id": "9f5a97cb-200f-4955-b757-859046c44c97",
   "metadata": {},
   "outputs": [
    {
     "data": {
      "text/plain": [
       "Index(['Customer ID', 'Initial Loan ($)', 'Days Since Last Loan',\n",
       "       'On-time Payments (%)', 'No. of Increases in 2023',\n",
       "       'Total Profit Contribution ($)'],\n",
       "      dtype='object')"
      ]
     },
     "execution_count": 114,
     "metadata": {},
     "output_type": "execute_result"
    }
   ],
   "source": [
    "# Check unique risk categories. Let's define risk categories using \"On-time Payments (%)\" as a measure of creditworthiness.\n",
    "df.columns"
   ]
  },
  {
   "cell_type": "code",
   "execution_count": 115,
   "id": "f108dc80-2ac7-4a5d-b85a-8f6a05d10206",
   "metadata": {},
   "outputs": [],
   "source": [
    "def assign_risk_category(on_time_payments):\n",
    "    if on_time_payments >= 95:\n",
    "        return \"Prime\"\n",
    "    elif 80 <= on_time_payments < 95:\n",
    "        return \"Near-Prime\"\n",
    "    else:\n",
    "        return \"Subprime\"\n",
    "\n",
    "df[\"risk_category\"] = df[\"On-time Payments (%)\"].apply(assign_risk_category)\n"
   ]
  },
  {
   "cell_type": "code",
   "execution_count": 116,
   "id": "899fe03a-b23f-4490-867d-aa615fb9fb3b",
   "metadata": {},
   "outputs": [
    {
     "data": {
      "text/html": [
       "<div>\n",
       "<style scoped>\n",
       "    .dataframe tbody tr th:only-of-type {\n",
       "        vertical-align: middle;\n",
       "    }\n",
       "\n",
       "    .dataframe tbody tr th {\n",
       "        vertical-align: top;\n",
       "    }\n",
       "\n",
       "    .dataframe thead th {\n",
       "        text-align: right;\n",
       "    }\n",
       "</style>\n",
       "<table border=\"1\" class=\"dataframe\">\n",
       "  <thead>\n",
       "    <tr style=\"text-align: right;\">\n",
       "      <th></th>\n",
       "      <th>Customer ID</th>\n",
       "      <th>Initial Loan ($)</th>\n",
       "      <th>Days Since Last Loan</th>\n",
       "      <th>On-time Payments (%)</th>\n",
       "      <th>No. of Increases in 2023</th>\n",
       "      <th>Total Profit Contribution ($)</th>\n",
       "      <th>risk_category</th>\n",
       "    </tr>\n",
       "  </thead>\n",
       "  <tbody>\n",
       "    <tr>\n",
       "      <th>0</th>\n",
       "      <td>1001</td>\n",
       "      <td>1360</td>\n",
       "      <td>72</td>\n",
       "      <td>90.41</td>\n",
       "      <td>5</td>\n",
       "      <td>120</td>\n",
       "      <td>Near-Prime</td>\n",
       "    </tr>\n",
       "    <tr>\n",
       "      <th>1</th>\n",
       "      <td>1002</td>\n",
       "      <td>4272</td>\n",
       "      <td>54</td>\n",
       "      <td>90.32</td>\n",
       "      <td>0</td>\n",
       "      <td>0</td>\n",
       "      <td>Near-Prime</td>\n",
       "    </tr>\n",
       "    <tr>\n",
       "      <th>2</th>\n",
       "      <td>1003</td>\n",
       "      <td>3592</td>\n",
       "      <td>242</td>\n",
       "      <td>85.56</td>\n",
       "      <td>4</td>\n",
       "      <td>80</td>\n",
       "      <td>Near-Prime</td>\n",
       "    </tr>\n",
       "    <tr>\n",
       "      <th>3</th>\n",
       "      <td>1004</td>\n",
       "      <td>966</td>\n",
       "      <td>301</td>\n",
       "      <td>95.86</td>\n",
       "      <td>0</td>\n",
       "      <td>0</td>\n",
       "      <td>Prime</td>\n",
       "    </tr>\n",
       "    <tr>\n",
       "      <th>4</th>\n",
       "      <td>1005</td>\n",
       "      <td>4926</td>\n",
       "      <td>352</td>\n",
       "      <td>94.80</td>\n",
       "      <td>0</td>\n",
       "      <td>0</td>\n",
       "      <td>Near-Prime</td>\n",
       "    </tr>\n",
       "  </tbody>\n",
       "</table>\n",
       "</div>"
      ],
      "text/plain": [
       "   Customer ID  Initial Loan ($)  Days Since Last Loan  On-time Payments (%)  \\\n",
       "0         1001              1360                    72                 90.41   \n",
       "1         1002              4272                    54                 90.32   \n",
       "2         1003              3592                   242                 85.56   \n",
       "3         1004               966                   301                 95.86   \n",
       "4         1005              4926                   352                 94.80   \n",
       "\n",
       "   No. of Increases in 2023  Total Profit Contribution ($) risk_category  \n",
       "0                         5                            120    Near-Prime  \n",
       "1                         0                              0    Near-Prime  \n",
       "2                         4                             80    Near-Prime  \n",
       "3                         0                              0         Prime  \n",
       "4                         0                              0    Near-Prime  "
      ]
     },
     "execution_count": 116,
     "metadata": {},
     "output_type": "execute_result"
    }
   ],
   "source": [
    "df.head()"
   ]
  },
  {
   "cell_type": "markdown",
   "id": "7fcc7d58-22c2-4ba5-be53-8cedbd4f4a73",
   "metadata": {},
   "source": [
    "## Explore the risk distribution:\n",
    "1. How many customers fall into each category?\n",
    "2. Are most customers \"Prime\" or \"Subprime\"?"
   ]
  },
  {
   "cell_type": "code",
   "execution_count": 117,
   "id": "2e52fa4a-ece5-4b0c-b2be-9d8cf8acf85c",
   "metadata": {},
   "outputs": [
    {
     "data": {
      "text/plain": [
       "risk_category\n",
       "Near-Prime    22480\n",
       "Prime          7520\n",
       "Name: count, dtype: int64"
      ]
     },
     "execution_count": 117,
     "metadata": {},
     "output_type": "execute_result"
    }
   ],
   "source": [
    "df[\"risk_category\"].value_counts()"
   ]
  },
  {
   "cell_type": "markdown",
   "id": "99f1868f-29d5-4a74-881a-125cbeda8509",
   "metadata": {},
   "source": [
    "## Visualize the risk distribution\n"
   ]
  },
  {
   "cell_type": "code",
   "execution_count": 118,
   "id": "14a429c5-be27-44ca-bcf6-9aae05767780",
   "metadata": {},
   "outputs": [
    {
     "name": "stderr",
     "output_type": "stream",
     "text": [
      "C:\\Users\\Admin\\AppData\\Local\\Temp\\ipykernel_44140\\168789355.py:4: FutureWarning: \n",
      "\n",
      "Passing `palette` without assigning `hue` is deprecated and will be removed in v0.14.0. Assign the `x` variable to `hue` and set `legend=False` for the same effect.\n",
      "\n",
      "  sns.countplot(x = 'risk_category' , data = df , palette = 'viridis')\n"
     ]
    },
    {
     "data": {
      "image/png": "[encoded data removed]",
      "text/plain": [
       "<Figure size 640x480 with 1 Axes>"
      ]
     },
     "metadata": {},
     "output_type": "display_data"
    }
   ],
   "source": [
    "import seaborn as sns\n",
    "import matplotlib.pyplot as plt \n",
    "\n",
    "sns.countplot(x = 'risk_category' , data = df , palette = 'viridis')\n",
    "plt.title('Distribution of Risk Categories')\n",
    "plt.show()"
   ]
  },
  {
   "cell_type": "code",
   "execution_count": 119,
   "id": "e62d28e6-b43b-4502-a184-70f26a1a58e2",
   "metadata": {},
   "outputs": [
    {
     "data": {
      "text/plain": [
       "risk_category\n",
       "Near-Prime    87.540298\n",
       "Prime         97.449725\n",
       "Name: On-time Payments (%), dtype: float64"
      ]
     },
     "execution_count": 119,
     "metadata": {},
     "output_type": "execute_result"
    }
   ],
   "source": [
    "## Compare repayment behavior across risk categories\n",
    "df.groupby(\"risk_category\")[\"On-time Payments (%)\"].mean()"
   ]
  },
  {
   "cell_type": "markdown",
   "id": "11cc92b3-e92d-4a02-99ee-a2af91a5ba8e",
   "metadata": {},
   "source": [
    "## Insights:\n",
    "\n",
    "1. Near-Prime customers are riskier than Prime but still have a relatively high on-time payment rate (~87.5%).\n",
    "2. The gap (97.45% vs. 87.54%) is significant—Near-Prime customers might require more careful loan limit increases.\n",
    "3. We need to check if this risk is justified by profit contribution. If Near-Prime customers generate high profits, it might be worth increasing their loan limits despite the slightly higher risk."
   ]
  },
  {
   "cell_type": "code",
   "execution_count": 120,
   "id": "423b134f-0ea4-4918-ac94-d5283ba8c27d",
   "metadata": {},
   "outputs": [
    {
     "data": {
      "text/plain": [
       "risk_category\n",
       "Near-Prime    44.631673\n",
       "Prime         44.978723\n",
       "Name: Total Profit Contribution ($), dtype: float64"
      ]
     },
     "execution_count": 120,
     "metadata": {},
     "output_type": "execute_result"
    }
   ],
   "source": [
    "df.groupby(\"risk_category\")[\"Total Profit Contribution ($)\"].mean()"
   ]
  },
  {
   "cell_type": "markdown",
   "id": "0ef2cbcf-cc40-4999-a762-68c20e1e8d64",
   "metadata": {},
   "source": [
    "## Key Takeaways:\n",
    "1. Profit difference is very small (~$0.35) → Near-Prime customers generate almost the same profit as Prime customers.\n",
    "2. Near-Prime customers are riskier (lower on-time payments) but profitability is nearly identical to Prime customers.\n",
    "3. Decision Dilemma: Should we be more lenient with Near-Prime customers if their profit is almost the same as Prime customers?"
   ]
  },
  {
   "cell_type": "markdown",
   "id": "d88c86ca-2b72-4a16-bb99-edce3d90306f",
   "metadata": {},
   "source": [
    "## Note: \n",
    "If Near-Prime customers default significantly more, we may need stricter loan policies for them. If not, we might be able to expand their loan limits more aggressively"
   ]
  },
  {
   "cell_type": "code",
   "execution_count": 121,
   "id": "bcd98536-38fe-4c4e-89ef-6347ae942f98",
   "metadata": {},
   "outputs": [
    {
     "data": {
      "text/plain": [
       "risk_category\n",
       "Near-Prime    12.459702\n",
       "Prime          2.550275\n",
       "Name: Estimated Default Risk (%), dtype: float64"
      ]
     },
     "execution_count": 121,
     "metadata": {},
     "output_type": "execute_result"
    }
   ],
   "source": [
    "# default rates for each category to see if Near-Prime customers default more often:\n",
    "\n",
    "df[\"Estimated Default Risk (%)\"] = 100 - df[\"On-time Payments (%)\"]\n",
    "df.groupby(\"risk_category\")[\"Estimated Default Risk (%)\"].mean()\n"
   ]
  },
  {
   "cell_type": "markdown",
   "id": "d744739e-9070-4d76-bc9e-1218cecfda39",
   "metadata": {},
   "source": [
    "## Key Insights\n",
    "1. Near-Prime customers are nearly 5x riskier than Prime customers.\n",
    "2. We must carefully manage loan limit increases for Near-Prime customers.\n",
    "3. A risk-based loan policy is essential to balance profitability vs. default risk."
   ]
  },
  {
   "cell_type": "code",
   "execution_count": 122,
   "id": "2e620f09-6722-4a91-bf94-65d88ae49296",
   "metadata": {},
   "outputs": [],
   "source": [
    "# Profitability vs. Default Risk"
   ]
  },
  {
   "cell_type": "code",
   "execution_count": 123,
   "id": "c8403891-d80c-444c-901b-31c0d5aab933",
   "metadata": {},
   "outputs": [
    {
     "data": {
      "text/plain": [
       "risk_category\n",
       "Near-Prime    44.631673\n",
       "Prime         44.978723\n",
       "Name: Total Profit Contribution ($), dtype: float64"
      ]
     },
     "execution_count": 123,
     "metadata": {},
     "output_type": "execute_result"
    }
   ],
   "source": [
    "df.groupby(\"risk_category\")[\"Total Profit Contribution ($)\"].mean()"
   ]
  },
  {
   "cell_type": "markdown",
   "id": "130ce708-eecb-4e29-bbbb-e9bdcae50f8c",
   "metadata": {},
   "source": [
    "# Profitability vs. Default Risk Analysis\n",
    "### Key Insights from the Results\n",
    "1. Near-Prime customers: Average profit contribution $44.63, with 12.46% default risk.\n",
    "2. Prime customers: Average profit contribution $44.98, with 2.55% default risk."
   ]
  },
  {
   "cell_type": "markdown",
   "id": "480d4ef9-4b47-46e9-8c29-7a515d8fbd29",
   "metadata": {},
   "source": [
    "## Profit-to-Risk Ratio:"
   ]
  },
  {
   "cell_type": "code",
   "execution_count": 124,
   "id": "2b15ecf1-4f6e-401f-ab14-cd2c6989fcd6",
   "metadata": {},
   "outputs": [
    {
     "name": "stderr",
     "output_type": "stream",
     "text": [
      "C:\\Users\\Admin\\AppData\\Local\\Temp\\ipykernel_44140\\3061705377.py:1: DeprecationWarning: DataFrameGroupBy.apply operated on the grouping columns. This behavior is deprecated, and in a future version of pandas the grouping columns will be excluded from the operation. Either pass `include_groups=False` to exclude the groupings or explicitly select the grouping columns after groupby to silence this warning.\n",
      "  df.groupby(\"risk_category\").apply(lambda x: x[\"Total Profit Contribution ($)\"].mean() / x['Estimated Default Risk (%)'].mean())\n"
     ]
    },
    {
     "data": {
      "text/plain": [
       "risk_category\n",
       "Near-Prime     3.582082\n",
       "Prime         17.636811\n",
       "dtype: float64"
      ]
     },
     "execution_count": 124,
     "metadata": {},
     "output_type": "execute_result"
    }
   ],
   "source": [
    "df.groupby(\"risk_category\").apply(lambda x: x[\"Total Profit Contribution ($)\"].mean() / x['Estimated Default Risk (%)'].mean())"
   ]
  },
  {
   "cell_type": "markdown",
   "id": "26b57eaf-0479-4d44-9786-330fdd849e04",
   "metadata": {},
   "source": [
    "## This unusual trend, let’s investigate further before making any conclusions"
   ]
  },
  {
   "cell_type": "markdown",
   "id": "6972e28e-7b57-4f11-a7a9-8db0e57d30d9",
   "metadata": {},
   "source": [
    "1. ✅ Check Distribution of Default Risk in Each Category\n",
    "We'll visualize and compare how default risk is spread across Prime vs. Near-Prime customers.\n",
    "\n",
    "2. ✅ Analyze Loan & Repayment Behavior\n",
    "We'll check if Prime customers take higher loans, have longer repayment periods, or more increases—this could explain the trend.\n",
    "\n",
    "3. ✅ Look for Outliers or Data Issues\n",
    "We’ll see if extreme values are skewing our results."
   ]
  },
  {
   "cell_type": "code",
   "execution_count": 125,
   "id": "649da4d7-1e00-416e-b8df-88cfbffeeb48",
   "metadata": {},
   "outputs": [
    {
     "name": "stderr",
     "output_type": "stream",
     "text": [
      "C:\\Users\\Admin\\AppData\\Local\\Temp\\ipykernel_44140\\338225567.py:9: UserWarning: No artists with labels found to put in legend.  Note that artists whose label start with an underscore are ignored when legend() is called with no argument.\n",
      "  plt.legend(title='Risk Category')\n"
     ]
    },
    {
     "data": {
      "image/png": "[encoded data removed]",
      "text/plain": [
       "<Figure size 1000x500 with 1 Axes>"
      ]
     },
     "metadata": {},
     "output_type": "display_data"
    }
   ],
   "source": [
    "import seaborn as sns\n",
    "import matplotlib.pyplot as plt\n",
    "\n",
    "plt.figure(figsize=(10,5))\n",
    "sns.histplot(data=df, x='Estimated Default Risk (%)', hue='risk_category', kde=True, bins=30)\n",
    "plt.title('Distribution of Default Risk by Risk Category')\n",
    "plt.xlabel('Estimated Default Risk (%)')\n",
    "plt.ylabel('Count')\n",
    "plt.legend(title='Risk Category')\n",
    "plt.show()"
   ]
  },
  {
   "cell_type": "markdown",
   "id": "0a9a17a2-1dcb-4c1f-9f4b-258646e1390f",
   "metadata": {},
   "source": [
    "## Insights:\n",
    "Why do Near-Prime customers have lower estimated risk?\n",
    "\n",
    "### 1. There could be a labeling issue in how risk categories were assigned.\n",
    "1. The model used to estimate default risk might be biased.\n",
    "2. Prime customers shouldn't have such high default.\n",
    "\n",
    "### 2. Their loan amounts & repayment history.\n",
    "External factors affecting their performance (e.g., economic shifts)."
   ]
  },
  {
   "cell_type": "markdown",
   "id": "c6fef47a-d777-45dc-9d6f-97ea147f94cf",
   "metadata": {},
   "source": [
    "## Check Average Loan Amount per Risk Category\n",
    "\n",
    "Do Prime customers take significantly larger loans, leading to higher estimated risk?\n"
   ]
  },
  {
   "cell_type": "code",
   "execution_count": 126,
   "id": "f9ea2ee3-ae9f-429b-ad57-df3078d0b4f9",
   "metadata": {},
   "outputs": [
    {
     "data": {
      "text/plain": [
       "risk_category\n",
       "Near-Prime    2746.729537\n",
       "Prime         2769.880053\n",
       "Name: Initial Loan ($), dtype: float64"
      ]
     },
     "execution_count": 126,
     "metadata": {},
     "output_type": "execute_result"
    }
   ],
   "source": [
    "df.groupby('risk_category')['Initial Loan ($)'].mean()"
   ]
  },
  {
   "cell_type": "code",
   "execution_count": 127,
   "id": "150f2f4a-f4af-486c-a1ce-7aea1176a31d",
   "metadata": {},
   "outputs": [
    {
     "ename": "SyntaxError",
     "evalue": "invalid character '✅' (U+2705) (3445783536.py, line 1)",
     "output_type": "error",
     "traceback": [
      "\u001b[1;36m  Cell \u001b[1;32mIn[127], line 1\u001b[1;36m\u001b[0m\n\u001b[1;33m    ✅ Not a huge difference—both categories borrow almost the same amount.\u001b[0m\n\u001b[1;37m    ^\u001b[0m\n\u001b[1;31mSyntaxError\u001b[0m\u001b[1;31m:\u001b[0m invalid character '✅' (U+2705)\n"
     ]
    }
   ],
   "source": [
    "✅ Not a huge difference—both categories borrow almost the same amount."
   ]
  },
  {
   "cell_type": "markdown",
   "id": "db75b718-2671-4e2e-942b-ea7d10deac6c",
   "metadata": {},
   "source": [
    "## Check Repayment Performance\n",
    "\n",
    "Compare on-time payments between both groups."
   ]
  },
  {
   "cell_type": "code",
   "execution_count": null,
   "id": "83380aff-75a8-4098-8362-94e6e5113f26",
   "metadata": {},
   "outputs": [],
   "source": [
    "df.groupby('risk_category')['On-time Payments (%)'].mean()"
   ]
  },
  {
   "cell_type": "code",
   "execution_count": null,
   "id": "6ca896aa-087b-47c7-8827-bfcb2c7531cf",
   "metadata": {},
   "outputs": [],
   "source": [
    "🚨 Big difference! Prime customers have a much higher on-time payment rate."
   ]
  },
  {
   "cell_type": "markdown",
   "id": "12255a6e-00b1-4c64-88e5-9820b1db3ea3",
   "metadata": {},
   "source": [
    "## Compare Number of Loan Increases\n",
    "\n",
    "More increases = more exposure to risk?"
   ]
  },
  {
   "cell_type": "code",
   "execution_count": null,
   "id": "ac4525d2-2cda-4eb9-a34f-af2a2efb4304",
   "metadata": {},
   "outputs": [],
   "source": [
    "df.groupby('risk_category')['No. of Increases in 2023'].mean()\n"
   ]
  },
  {
   "cell_type": "code",
   "execution_count": null,
   "id": "2ed2a839-4634-4ffd-9b0e-e24e5a7822c2",
   "metadata": {},
   "outputs": [],
   "source": [
    "✅ Very similar—both groups get almost the same number of limit increases."
   ]
  },
  {
   "cell_type": "markdown",
   "id": "efc2a60b-206d-4edd-8edd-cdb6a7789fcc",
   "metadata": {},
   "source": [
    "## Key Takeaways:\n",
    "### Near-Prime customers have much lower on-time payment rates (~87% vs. 97% for Prime).\n",
    "1. This suggests higher risk of default in Near-Prime customers.\n",
    "2. The loan amount & number of increases aren’t the main problem—repayment behavior is!\n",
    "\n",
    "### Despite lower on-time payments, Near-Prime customers still receive similar loan increases.\n",
    "1. This might indicate a flaw in the approval policy—it’s not considering past repayment performance strongly enough."
   ]
  },
  {
   "cell_type": "markdown",
   "id": "4388bd36-826f-46cb-8604-8280ef43db6a",
   "metadata": {},
   "source": [
    "# Compare Default Risk & On-Time Payments using a Scatter Plot"
   ]
  },
  {
   "cell_type": "code",
   "execution_count": null,
   "id": "a3a17632-7e48-4230-a2d3-a466de9bfa8f",
   "metadata": {},
   "outputs": [],
   "source": [
    "import seaborn as sns\n",
    "import matplotlib.pyplot as plt\n",
    "\n",
    "plt.figure(figsize=(8,5))\n",
    "sns.scatterplot(data=df, x='On-time Payments (%)', y='Estimated Default Risk (%)', hue='risk_category')\n",
    "plt.title(\"Relationship Between On-Time Payments & Default Risk\")\n",
    "plt.show()"
   ]
  },
  {
   "cell_type": "markdown",
   "id": "3e503bf6-9ecf-45c7-b73b-fcbe812b2c02",
   "metadata": {},
   "source": [
    "# Check Correlation Between Default Risk & Other Features"
   ]
  },
  {
   "cell_type": "code",
   "execution_count": null,
   "id": "6b4beffa-9225-4315-8386-a270e140ac2a",
   "metadata": {},
   "outputs": [],
   "source": [
    "df.corr(numeric_only=True)['Estimated Default Risk (%)'].sort_values(ascending=False)"
   ]
  },
  {
   "cell_type": "markdown",
   "id": "9152f4c0-5db7-42be-9841-f0c153ff340e",
   "metadata": {},
   "source": [
    "# Analysis of Correlation Results\n",
    "## Key Observations:\n",
    "\n",
    "#### On-time Payments (%) has a perfect negative correlation (-1.000000) with Estimated Default Risk (%)\n",
    "1. This means higher on-time payments → lower default risk (expected).\n",
    "2. All other variables have weak or near-zero correlation with default risk.\n",
    "3. Total Profit Contribution ($) (0.0016) and No. of Increases in 2023 (0.0001) are almost uncorrelated with default risk.\n",
    "4. Initial Loan ($) (-0.0034) and Days Since Last Loan (-0.0019) have near-zero impact.\n",
    "#### What This Means for Loan Limit Optimization:\n",
    "\n",
    "1. On-time payments (%) should be the primary factor in determining loan increases.\n",
    "2. Since \"No. of Increases in 2023\" and \"Total Profit Contribution ($)\" do not correlate with default risk, we may need advanced models (Markov Chains, Simulation) instead of just correlation-based approaches.\n",
    "3. External economic factors (inflation, employment rates) might be needed to refine risk assessment."
   ]
  },
  {
   "cell_type": "markdown",
   "id": "e3ea4111-b201-4f7d-84ee-8abfff62050b",
   "metadata": {},
   "source": [
    "# ✅ Next Step: Start Markov Chain Modeling"
   ]
  },
  {
   "cell_type": "markdown",
   "id": "ce906aec-2316-45fe-9bec-ebda7d033afc",
   "metadata": {},
   "source": [
    "### Step 1: Understanding the Markov Chain Modeling:\n",
    "##### A Markov Chain is a stochastic model that predicts future states based on the current state. In our case, a borrower’s risk category (Prime, Near-Prime, etc.) changes over time based on repayment behavior.\n",
    "\n",
    "###### We’ll define:\n",
    "\n",
    "1. States → Risk categories: Prime, Near-Prime, Subprime (if applicable).\n",
    "2. Transitions → Probability of moving from one state to another.\n",
    "3. Transition Matrix → A matrix showing probabilities of movement between risk states."
   ]
  },
  {
   "cell_type": "markdown",
   "id": "c009f9be-1bbd-4d36-9761-31de410339ad",
   "metadata": {},
   "source": [
    "### Step 2: Building a Transition Matrix"
   ]
  },
  {
   "cell_type": "code",
   "execution_count": null,
   "id": "bcb3bd20-2051-47a1-8b66-4f779ed5b9c9",
   "metadata": {},
   "outputs": [],
   "source": [
    "df['Customer ID'].value_counts().head(10)"
   ]
  },
  {
   "cell_type": "markdown",
   "id": "b4f52e59-f644-472f-a42e-beec32528f8e",
   "metadata": {},
   "source": [
    "This means each Customer ID appears only once in the dataset, so we don’t have historical transitions for each borrower."
   ]
  },
  {
   "cell_type": "markdown",
   "id": "834099ff-1484-434b-95c6-0686d8c39565",
   "metadata": {},
   "source": [
    "### Step 3 : Check Risk Category Distribution"
   ]
  },
  {
   "cell_type": "code",
   "execution_count": null,
   "id": "c1187279-3e6f-4d1d-b367-1289b2f5f622",
   "metadata": {},
   "outputs": [],
   "source": [
    "df['risk_category'].value_counts(normalize=True)"
   ]
  },
  {
   "cell_type": "markdown",
   "id": "72f20490-a5bc-4d3a-8235-e40318afb94d",
   "metadata": {},
   "source": [
    "### step 4:  Manually Define a Transition Matrix"
   ]
  },
  {
   "cell_type": "code",
   "execution_count": null,
   "id": "f610e7a6-16ab-411d-920a-9ad12da9d5cc",
   "metadata": {},
   "outputs": [],
   "source": [
    "import numpy as np\n",
    "import pandas as pd\n",
    "\n",
    "# Define states\n",
    "states = ['Prime', 'Near-Prime']\n",
    "\n",
    "# Assume some transition probabilities (we will refine this later)\n",
    "transition_matrix = pd.DataFrame(\n",
    "    np.array([[0.85, 0.15],  # Prime → (Prime, Near-Prime)\n",
    "              [0.20, 0.80]]), # Near-Prime → (Prime, Near-Prime)\n",
    "    index=states,\n",
    "    columns=states\n",
    ")\n",
    "\n",
    "transition_matrix\n"
   ]
  },
  {
   "cell_type": "markdown",
   "id": "4d4f54d3-9798-48bd-bb5a-d62a36377e06",
   "metadata": {},
   "source": [
    "### Step 5: Applying the Markov Model"
   ]
  },
  {
   "cell_type": "markdown",
   "id": "ee8476d8-fd3f-4291-803f-0c4a9f411277",
   "metadata": {},
   "source": [
    "#### Define the Initial Distribution"
   ]
  },
  {
   "cell_type": "code",
   "execution_count": null,
   "id": "427f3f6f-bb35-4350-9e67-3ce597547717",
   "metadata": {},
   "outputs": [],
   "source": [
    "initial_distribution = df['risk_category'].value_counts(normalize=True).sort_index()\n",
    "initial_distribution"
   ]
  },
  {
   "cell_type": "markdown",
   "id": "4a79e87f-0bb5-4dc1-a706-b7d10fe39c0b",
   "metadata": {},
   "source": [
    "#### Predict Future Risk Category Distribution"
   ]
  },
  {
   "cell_type": "code",
   "execution_count": null,
   "id": "cb67fac3-7503-456d-aa57-e8991646f603",
   "metadata": {},
   "outputs": [],
   "source": [
    "# Convert to numpy array\n",
    "current_state = initial_distribution.values\n",
    "\n",
    "# Predict risk distribution after N steps (e.g., 6 months)\n",
    "n_steps = 6\n",
    "for _ in range(n_steps):\n",
    "    current_state = np.dot(current_state, transition_matrix.values)\n",
    "\n",
    "predicted_distribution = pd.Series(current_state, index=transition_matrix.columns)\n",
    "predicted_distribution\n"
   ]
  },
  {
   "cell_type": "markdown",
   "id": "3a883575-318f-4375-98d8-85464944995c",
   "metadata": {},
   "source": [
    "1. 1️⃣ Good news: More customers are becoming Prime → we can safely offer them better loan limits.\n",
    "2. 2️⃣ Caution: 41% still in Near-Prime → we need risk controls before increasing their limits."
   ]
  },
  {
   "cell_type": "markdown",
   "id": "00ce2610-ea86-495d-bda1-75c12d3b4a06",
   "metadata": {},
   "source": [
    "# step 6: Simulating Loan Limits for Different Risk Groups"
   ]
  },
  {
   "cell_type": "markdown",
   "id": "6c2ee6fa-a194-4f95-a478-9484870a9a44",
   "metadata": {},
   "source": [
    "### Define Loan Limit Increase Probabilities"
   ]
  },
  {
   "cell_type": "code",
   "execution_count": null,
   "id": "449c54a0-2ade-4f5f-abfe-d597d4f5dec5",
   "metadata": {},
   "outputs": [],
   "source": [
    "loan_acceptance_prob = {\n",
    "    \"Prime\": 0.75,  # 75% of Prime borrowers accept increases\n",
    "    \"Near-Prime\": 0.50  # 50% of Near-Prime borrowers accept increases\n",
    "}\n",
    "\n",
    "repayment_prob = {\n",
    "    \"Prime\": 0.90,  # 90% of Prime borrowers repay on time\n",
    "    \"Near-Prime\": 0.70  # 70% of Near-Prime borrowers repay on time\n",
    "}\n"
   ]
  },
  {
   "cell_type": "markdown",
   "id": "5ba7526e-0be6-437d-ad59-9a892febd5f5",
   "metadata": {},
   "source": [
    "### Simulate Loan Limit Increases\n"
   ]
  },
  {
   "cell_type": "code",
   "execution_count": null,
   "id": "012d277f-bb4f-4233-9ff3-fd9461252f2b",
   "metadata": {},
   "outputs": [],
   "source": [
    "df['loan_increase_acceptance'] = df['risk_category'].map(loan_acceptance_prob)\n",
    "df['successful_repayment'] = df['risk_category'].map(repayment_prob)\n",
    "df[['risk_category', 'loan_increase_acceptance', 'successful_repayment']].head()"
   ]
  },
  {
   "cell_type": "markdown",
   "id": "7b6dbc86-a578-4781-8a04-c188f706985f",
   "metadata": {},
   "source": [
    "# Results confirm our assumptions:\n",
    "\n",
    "1. Prime borrowers (0.75 acceptance, 0.9 repayment) → More reliable, accept loan increases more often, and repay successfully.\n",
    "2. Near-Prime borrowers (0.50 acceptance, 0.7 repayment) → Riskier, accept fewer increases, and have a lower repayment rate."
   ]
  },
  {
   "cell_type": "markdown",
   "id": "7a61e139-9e51-42cf-bf65-bd5af21e0893",
   "metadata": {},
   "source": [
    "## Step 7: Expected Profit Calculation"
   ]
  },
  {
   "cell_type": "markdown",
   "id": "4eea6c4d-9c73-460c-9743-b9c8fd27f9da",
   "metadata": {},
   "source": [
    "##### Define Expected Profit Formula\n",
    "Expected Profit=(Acceptance Rate)×(Repayment Probability)×40"
   ]
  },
  {
   "cell_type": "code",
   "execution_count": null,
   "id": "4153ea17-0187-425a-8d14-ebd43ad70f38",
   "metadata": {},
   "outputs": [],
   "source": [
    "df['expected_profit'] = df['loan_increase_acceptance'] * df['successful_repayment'] * 40\n",
    "df[['risk_category', 'expected_profit']].head()\n"
   ]
  },
  {
   "cell_type": "markdown",
   "id": "117a91e3-f5b3-49fb-aa81-46fb898d4dee",
   "metadata": {},
   "source": [
    "## step 8: Annualized Profit Estimation\n",
    "Since customers can get up to 6 increases per year, let’s estimate their annual expected profit:"
   ]
  },
  {
   "cell_type": "markdown",
   "id": "1c029078-1169-4f0f-8efd-6f8bcfb1c364",
   "metadata": {},
   "source": [
    "### Formula for Annual Profit\n",
    "Annual Profit=Expected Profit×min(6,No. of Increases in 2023)"
   ]
  },
  {
   "cell_type": "code",
   "execution_count": null,
   "id": "519bf29c-daa2-4287-8fa8-e731d3ad5708",
   "metadata": {},
   "outputs": [],
   "source": [
    "df['annual_expected_profit'] = df['expected_profit'] * df['No. of Increases in 2023'].clip(upper=6)\n",
    "df[['risk_category', 'annual_expected_profit']].groupby('risk_category').mean()\n"
   ]
  },
  {
   "cell_type": "markdown",
   "id": "f89ef78f-5aa1-4c72-9903-16115c533ca1",
   "metadata": {},
   "source": [
    " Prime borrowers generate nearly 2x the profit compared to Near-Prime! "
   ]
  },
  {
   "cell_type": "markdown",
   "id": "96c17802-2d50-4d18-8e0c-7f21c12787a2",
   "metadata": {},
   "source": [
    "### Step 9: Risk-Adjusted Profit Calculation"
   ]
  },
  {
   "cell_type": "markdown",
   "id": "a0ae11b4-2c04-45d0-af2c-a318bb30c895",
   "metadata": {},
   "source": [
    "#### Formula for Risk-Adjusted Profit\n",
    "\\text{Risk-Adjusted Profit} = \\text{Annual Profit} \\times (1 - \\text{Estimated Default Risk (%)})"
   ]
  },
  {
   "cell_type": "code",
   "execution_count": null,
   "id": "b8b1d19c-d6a1-4cd6-96b3-d3d82a2866e9",
   "metadata": {},
   "outputs": [],
   "source": [
    "df['risk_adjusted_profit'] = df['annual_expected_profit'] * (1 - df['Estimated Default Risk (%)'] / 100)\n",
    "df[['risk_category', 'risk_adjusted_profit']].groupby('risk_category').mean()"
   ]
  },
  {
   "cell_type": "markdown",
   "id": "876f0f15-42a9-41f4-9277-6158cb427f21",
   "metadata": {},
   "source": [
    "Near-Prime borrowers lose $4 due to higher defaults, while Prime borrowers only lose $1."
   ]
  },
  {
   "cell_type": "markdown",
   "id": "b3a48e23-94d7-4b9c-98ca-fb76c5993ca2",
   "metadata": {},
   "source": [
    "### Step 10: Optimizing Loan Limit Increase Strategy"
   ]
  },
  {
   "cell_type": "markdown",
   "id": "c4f60c4b-5cf3-4f7b-bcd9-18a112607426",
   "metadata": {},
   "source": [
    "#### Define Decision Rule\n",
    "#### We need to approve increases only if:\n",
    "\n",
    "Risk-Adjusted Profit>Minimum Required Profit Threshold\n",
    "\n",
    "1. Should we set the threshold at $30 to ensure profitability?\n",
    "2. Or should we allow some Near-Prime borrowers if they improve over time?"
   ]
  },
  {
   "cell_type": "code",
   "execution_count": null,
   "id": "cfbf0ec6-864f-4018-b56e-4d5f5cf9786f",
   "metadata": {},
   "outputs": [],
   "source": [
    "profit_threshold = 30\n",
    "df['approved_for_increase'] = df['risk_adjusted_profit'] > profit_threshold\n",
    "df['approved_for_increase'].value_counts()\n"
   ]
  },
  {
   "cell_type": "markdown",
   "id": "093a0f20-3cc7-49aa-8af2-2eb051ddb4a6",
   "metadata": {},
   "source": [
    "### Insights from Approval Results\n",
    "1. 16,793 customers approved for a loan limit increase.\n",
    "2. 13,207 customers not approved based on our risk-adjusted profit threshold."
   ]
  },
  {
   "cell_type": "markdown",
   "id": "b64830d4-c136-4092-9948-8b255d8b16d4",
   "metadata": {},
   "source": [
    "### Step 11: Evaluating the Policy"
   ]
  },
  {
   "cell_type": "markdown",
   "id": "aab41331-ab15-46b7-a88e-49eef2454f7d",
   "metadata": {},
   "source": [
    "#### 1. Approval Rate: What % of total customers got approved?\n"
   ]
  },
  {
   "cell_type": "code",
   "execution_count": null,
   "id": "2c9c132b-8250-40c2-9603-7532d209fb75",
   "metadata": {},
   "outputs": [],
   "source": [
    "approval_rate = df['approved_for_increase'].mean() * 100\n",
    "print(f\"Approval Rate: {approval_rate:.2f}%\")\n"
   ]
  },
  {
   "cell_type": "markdown",
   "id": "3e4dd7a1-abb8-4a6e-a8c2-b2f80ea9d43d",
   "metadata": {},
   "source": [
    "#### 2. Approval by Risk Category"
   ]
  },
  {
   "cell_type": "code",
   "execution_count": null,
   "id": "1f40615e-73d3-46bb-8484-c44c094a9e6f",
   "metadata": {},
   "outputs": [],
   "source": [
    "print(df.groupby('risk_category')['approved_for_increase'].value_counts(normalize=True) * 100)\n"
   ]
  },
  {
   "cell_type": "markdown",
   "id": "819924ad-b2e2-4afd-af9e-af08f03c9086",
   "metadata": {},
   "source": [
    "### Step: 12 Risk vs. Profit Tradeoff\n",
    "1. Average profit contribution of approved vs. rejected customers\n",
    "2. Default risk distribution in approved cases"
   ]
  },
  {
   "cell_type": "code",
   "execution_count": null,
   "id": "c57cbd9f-7a53-4518-9439-7a5ae23b1d60",
   "metadata": {},
   "outputs": [],
   "source": [
    "df.groupby('approved_for_increase')[['Total Profit Contribution ($)', 'Estimated Default Risk (%)']].mean()\n"
   ]
  },
  {
   "cell_type": "markdown",
   "id": "5169c310-5151-4ceb-bda5-b0687ff46132",
   "metadata": {},
   "source": [
    "### Key Takeaways\n",
    "Profitability is only generated from approved customers (expected).\n",
    "##### Default risk is nearly the same (9.99% vs. 9.97%)\n",
    "1. This suggests rejections aren’t significantly reducing default risk.\n",
    "2. We may be rejecting customers unnecessarily, leading to lost revenue."
   ]
  },
  {
   "cell_type": "markdown",
   "id": "ca53ff7f-120c-488d-8f2d-985447c64d73",
   "metadata": {},
   "source": [
    "# step 13:  profitability by risk category"
   ]
  },
  {
   "cell_type": "code",
   "execution_count": null,
   "id": "84214d5f-2cd2-4d4f-9090-97aa9c9a64d4",
   "metadata": {},
   "outputs": [],
   "source": [
    "df[df['approved_for_increase'] == True].groupby('risk_category')['Total Profit Contribution ($)'].mean()\n"
   ]
  },
  {
   "cell_type": "markdown",
   "id": "1d55552a-fc8e-4c68-a8a6-d1a1fd3bf3fd",
   "metadata": {},
   "source": [
    "## Key Takeaways\n",
    "Both Prime & Near-Prime customers contribute nearly the same profit!\n",
    "\n",
    "### This suggests Near-Prime approvals are just as profitable as Prime.\n",
    "1. We might be over-restricting Near-Prime customers without much financial gain.\n",
    "2. Since risk was nearly the same (9.97% vs. 9.99%), we should explore if we can approve more Near-Prime customers without significantly increasing default risk."
   ]
  },
  {
   "cell_type": "markdown",
   "id": "975f7d17-7889-42ff-8481-34a4e5a962a7",
   "metadata": {},
   "source": [
    "# Step 14: Approval rates for different risk categories:"
   ]
  },
  {
   "cell_type": "code",
   "execution_count": null,
   "id": "fd23dbec-4a90-4aa8-b29f-251bc67a44ea",
   "metadata": {},
   "outputs": [],
   "source": [
    "df.groupby('risk_category')['approved_for_increase'].mean() * 100"
   ]
  },
  {
   "cell_type": "markdown",
   "id": "c30fbd93-a7f5-4a46-88ee-e02c499ae550",
   "metadata": {},
   "source": [
    " ### Insights\n",
    "##### Approval rates are nearly identical for both risk categories.\n",
    "\n",
    "1. This suggests the model is not overly favoring Prime customers.\n",
    "2.  However, a slightly higher approval rate for Prime aligns with traditional lending strategies.\n",
    "##### Near-Prime is being approved at a competitive rate (55.85%), but we should check if their default rate justifies this.\n",
    "\n",
    "1. If Near-Prime defaults significantly more, the approval rate might still be too high.\n",
    "2. If default rates are similar, we could consider raising Near-Prime approvals to capture more profit."
   ]
  },
  {
   "cell_type": "markdown",
   "id": "4ba2349e-1b34-4f70-9329-61a9d011533a",
   "metadata": {},
   "source": [
    "# step 15: Default rates by risk category"
   ]
  },
  {
   "cell_type": "code",
   "execution_count": null,
   "id": "d2064ece-0115-4639-91cd-8952aeb6b00f",
   "metadata": {},
   "outputs": [],
   "source": [
    "df.groupby('risk_category')['Estimated Default Risk (%)'].mean()\n"
   ]
  },
  {
   "cell_type": "markdown",
   "id": "ba3c07d3-26d0-4056-8846-9c58e4fb087a",
   "metadata": {},
   "source": [
    "### Key Observations\n",
    "#### Near-Prime defaults nearly 5x more than Prime customers.\n",
    "1.This is a significant risk factor.\n",
    "1. Despite a 55.85% approval rate, Near-Prime customers default much more, potentially hurting profitability.\n",
    "#### Prime customers are significantly safer.\n",
    "\n",
    "1. Their 2.55% default rate makes them much more reliable.\n",
    "2. This justifies why they should receive more approvals or higher loan limits."
   ]
  },
  {
   "cell_type": "markdown",
   "id": "c5ccd59d-4ea8-42a1-8a97-473d88bf99b7",
   "metadata": {},
   "source": [
    "# Step 15: Approved Near-Prime customers have a lower default rate"
   ]
  },
  {
   "cell_type": "code",
   "execution_count": null,
   "id": "d7e53964-1df1-4c44-a368-9fb295d0da9a",
   "metadata": {},
   "outputs": [],
   "source": [
    "df.groupby(['approved_for_increase', 'risk_category'])['Estimated Default Risk (%)'].mean()\n"
   ]
  },
  {
   "cell_type": "markdown",
   "id": "9325caca-92a9-4395-97f6-cfda6d0b8d89",
   "metadata": {},
   "source": [
    "# Step 16: Improve approval decisions,"
   ]
  },
  {
   "cell_type": "markdown",
   "id": "bed48778-2ccc-4f5d-a17c-879d16a015da",
   "metadata": {},
   "source": [
    "Analyze more factors influencing Near-Prime defaults (e.g., payment history, loan size).\n",
    "Refine approval thresholds (e.g., only approve Near-Prime customers with 80%+ on-time payments)."
   ]
  },
  {
   "cell_type": "markdown",
   "id": "af843a5e-4559-41db-8ed4-adb1be90710e",
   "metadata": {},
   "source": [
    "# Next Steps: Optimizing Loan Approval Decision\n",
    "## Step 1: Define an Approval Model\n",
    "We can use one of these approaches:\n",
    "1️⃣ Rule-based model (e.g., approve if on-time payment > X%)\n",
    "2️⃣ Logistic regression (predict approval likelihood)\n",
    "3️⃣ Machine learning models (Random Forest, XGBoost, etc.)\n",
    "4️⃣ Reinforcement learning (dynamic decision-making)\n"
   ]
  },
  {
   "cell_type": "markdown",
   "id": "0b42c47f-37b4-48d3-810d-52466b3741a7",
   "metadata": {},
   "source": [
    "## 📌 Step 1: Train Logistic Regression Model for Loan Approval\n",
    "We’ll predict approved_for_increase based on:\n",
    "1.  On-time Payments (%)\n",
    "2. Estimated Default Risk (%)\n",
    "3. No. of Increases in 2023\n",
    "4.  Risk Category (encoded as 0 = Near-Prime, 1 = Prime)"
   ]
  },
  {
   "cell_type": "markdown",
   "id": "99cb6ea8-aeaa-4727-9087-77bdf6971f24",
   "metadata": {},
   "source": [
    "##  Step 2: Implement Logistic Regression"
   ]
  },
  {
   "cell_type": "code",
   "execution_count": null,
   "id": "fe36d843-614e-4624-a12b-9f78187950bd",
   "metadata": {},
   "outputs": [],
   "source": [
    "from sklearn.model_selection import train_test_split\n",
    "from sklearn.preprocessing import StandardScaler\n",
    "from sklearn.linear_model import LogisticRegression\n",
    "from sklearn.metrics import accuracy_score, classification_report\n",
    "\n",
    "# Selecting features and target variable\n",
    "features = ['On-time Payments (%)', 'Estimated Default Risk (%)', 'No. of Increases in 2023']\n",
    "X = df[features]\n",
    "X['Risk Category'] = df['risk_category'].map({'Near-Prime': 0, 'Prime': 1})  # Encoding\n",
    "y = df['approved_for_increase']\n",
    "\n",
    "# Splitting the data\n",
    "X_train, X_test, y_train, y_test = train_test_split(X, y, test_size=0.2, random_state=42)\n",
    "\n",
    "# Scaling features\n",
    "scaler = StandardScaler()\n",
    "X_train_scaled = scaler.fit_transform(X_train)\n",
    "X_test_scaled = scaler.transform(X_test)\n",
    "\n",
    "# Train Logistic Regression Model\n",
    "model = LogisticRegression()\n",
    "model.fit(X_train_scaled, y_train)\n",
    "\n",
    "# Predictions\n",
    "y_pred = model.predict(X_test_scaled)\n",
    "\n",
    "# Evaluate Model\n",
    "accuracy = accuracy_score(y_test, y_pred)\n",
    "print(\"Accuracy:\", accuracy)\n",
    "print(classification_report(y_test, y_pred))\n"
   ]
  },
  {
   "cell_type": "code",
   "execution_count": null,
   "id": "13083e8b-7487-401f-b473-23eccfaa5224",
   "metadata": {},
   "outputs": [],
   "source": [
    "df_encoded = df.copy()\n",
    "\n",
    "# Convert 'risk_category' to numeric values\n",
    "df_encoded['risk_category'] = df_encoded['risk_category'].map({'Prime': 1, 'Near-Prime': 0})\n",
    "\n",
    "# Now plot the heatmap\n",
    "plt.figure(figsize=(8, 6))\n",
    "sns.heatmap(df_encoded.corr(), annot=True, cmap=\"coolwarm\", fmt=\".2f\")\n",
    "plt.title(\"Feature Correlation Heatmap\")\n",
    "plt.show()"
   ]
  },
  {
   "cell_type": "markdown",
   "id": "bf93a457-41dc-4595-916b-0be4595a4d0f",
   "metadata": {},
   "source": [
    "# Perfect Accuracy (1.0)? That suggests:\n",
    "1. Data Leakage – The model might be learning something too obvious from the dataset.\n",
    "2. Overfitting – The test set might not be challenging enough."
   ]
  },
  {
   "cell_type": "markdown",
   "id": "b3940911-204d-4172-babd-21658313eb5e",
   "metadata": {},
   "source": [
    "# Next steos Saving & Retaining the Model:"
   ]
  },
  {
   "cell_type": "markdown",
   "id": "e1fcc99a-7bfb-413f-b9e4-e9111453d9b3",
   "metadata": {},
   "source": [
    "## 1. Save the Model:"
   ]
  },
  {
   "cell_type": "code",
   "execution_count": null,
   "id": "e7967c6b-1e03-4765-9358-6d175feb447d",
   "metadata": {},
   "outputs": [],
   "source": [
    "import joblib\n",
    "\n",
    "# Save the trained model\n",
    "joblib.dump(model, \"loan_approval_model.pkl\")\n",
    "print(\"Model saved successfully!\")"
   ]
  },
  {
   "cell_type": "markdown",
   "id": "1d8f5415-3c8d-42f1-97c8-bcabb97909c4",
   "metadata": {},
   "source": [
    "## 2. Load the Model (When Needed):"
   ]
  },
  {
   "cell_type": "code",
   "execution_count": null,
   "id": "e067b3f3-6f7d-4b68-954a-9a078527f69e",
   "metadata": {},
   "outputs": [],
   "source": [
    "# Load the saved model\n",
    "model_loaded = joblib.load(\"loan_approval_model.pkl\")\n",
    "\n",
    "# Now you can use model_loaded for predictions"
   ]
  },
  {
   "cell_type": "markdown",
   "id": "71b43dbe-7891-4768-a52b-60deea535c10",
   "metadata": {},
   "source": [
    "# 3. Test the Loaded Model"
   ]
  },
  {
   "cell_type": "code",
   "execution_count": null,
   "id": "e41289e9-d5f9-4684-81a2-8d4ee08afeda",
   "metadata": {},
   "outputs": [],
   "source": [
    "sample_input = X_test.iloc[0:1]  # Select one test sample\n",
    "prediction = model_loaded.predict(sample_input)\n",
    "print(\"Prediction:\", prediction)"
   ]
  },
  {
   "cell_type": "markdown",
   "id": "8f6eb5a4-8b41-4774-9f57-0bcb4ab604cf",
   "metadata": {},
   "source": [
    "# Here's what we covered:\n",
    "1. ✅ Data Preprocessing & Analysis (handling missing values, feature engineering)\n",
    "2. ✅ Risk Categorization & Customer Behavior Analysis\n",
    "3. ✅ Approval Decision Modeling (classification model for approvals)\n",
    "4. ✅ Evaluation of Approval Impact (profit, risk, approval rates)\n",
    "5. ✅ Model Training & Performance Evaluation (precision, recall, F1-score)\n",
    "6. ✅ Saving & Retaining the Model (for future use)\n",
    "\n",
    "Everything is now ready for you. "
   ]
  },
  {
   "cell_type": "code",
   "execution_count": null,
   "id": "271d5aff-eccb-4512-9aa3-b311cb506616",
   "metadata": {},
   "outputs": [],
   "source": []
  }
 ],
 "metadata": {
  "kernelspec": {
   "display_name": "Python 3 (ipykernel)",
   "language": "python",
   "name": "python3"
  },
  "language_info": {
   "codemirror_mode": {
    "name": "ipython",
    "version": 3
   },
   "file_extension": ".py",
   "mimetype": "text/x-python",
   "name": "python",
   "nbconvert_exporter": "python",
   "pygments_lexer": "ipython3",
   "version": "3.12.7"
  }
 },
 "nbformat": 4,
 "nbformat_minor": 5
}
